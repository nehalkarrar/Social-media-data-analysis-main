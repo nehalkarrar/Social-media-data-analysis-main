{
 "cells": [
  {
   "cell_type": "code",
   "execution_count": 1,
   "id": "9ffe7387-67a1-401a-a776-827ab8e27391",
   "metadata": {},
   "outputs": [],
   "source": [
    "import pandas as pd\n",
    "import numpy as np"
   ]
  },
  {
   "cell_type": "code",
   "execution_count": 2,
   "id": "5ace1446-f2f4-447e-8339-83f40f0b9526",
   "metadata": {},
   "outputs": [],
   "source": [
    "social_media_df = pd.read_csv('social_media_data.csv')"
   ]
  },
  {
   "cell_type": "code",
   "execution_count": 3,
   "id": "49556d77-68a2-4143-897c-fe5a541fcc9e",
   "metadata": {},
   "outputs": [
    {
     "data": {
      "text/html": [
       "<div>\n",
       "<style scoped>\n",
       "    .dataframe tbody tr th:only-of-type {\n",
       "        vertical-align: middle;\n",
       "    }\n",
       "\n",
       "    .dataframe tbody tr th {\n",
       "        vertical-align: top;\n",
       "    }\n",
       "\n",
       "    .dataframe thead th {\n",
       "        text-align: right;\n",
       "    }\n",
       "</style>\n",
       "<table border=\"1\" class=\"dataframe\">\n",
       "  <thead>\n",
       "    <tr style=\"text-align: right;\">\n",
       "      <th></th>\n",
       "      <th>date</th>\n",
       "      <th>platform</th>\n",
       "      <th>post_type</th>\n",
       "      <th>likes</th>\n",
       "      <th>shares</th>\n",
       "      <th>comments</th>\n",
       "      <th>views</th>\n",
       "    </tr>\n",
       "  </thead>\n",
       "  <tbody>\n",
       "    <tr>\n",
       "      <th>0</th>\n",
       "      <td>2023-05-24</td>\n",
       "      <td>Twitter</td>\n",
       "      <td>image</td>\n",
       "      <td>868.0</td>\n",
       "      <td>238.0</td>\n",
       "      <td>352.0</td>\n",
       "      <td>8836.0</td>\n",
       "    </tr>\n",
       "    <tr>\n",
       "      <th>1</th>\n",
       "      <td>2023-02-23</td>\n",
       "      <td>Twitter</td>\n",
       "      <td>image</td>\n",
       "      <td>944.0</td>\n",
       "      <td>610.0</td>\n",
       "      <td>146.0</td>\n",
       "      <td>5554.0</td>\n",
       "    </tr>\n",
       "    <tr>\n",
       "      <th>2</th>\n",
       "      <td>2023-03-18</td>\n",
       "      <td>Instagram</td>\n",
       "      <td>image</td>\n",
       "      <td>1067.0</td>\n",
       "      <td>858.0</td>\n",
       "      <td>365.0</td>\n",
       "      <td>4018.0</td>\n",
       "    </tr>\n",
       "    <tr>\n",
       "      <th>3</th>\n",
       "      <td>2023-06-12</td>\n",
       "      <td>Twitter</td>\n",
       "      <td>text</td>\n",
       "      <td>780.0</td>\n",
       "      <td>427.0</td>\n",
       "      <td>100.0</td>\n",
       "      <td>6999.0</td>\n",
       "    </tr>\n",
       "    <tr>\n",
       "      <th>4</th>\n",
       "      <td>2023-02-03</td>\n",
       "      <td>Instagram</td>\n",
       "      <td>text</td>\n",
       "      <td>836.0</td>\n",
       "      <td>893.0</td>\n",
       "      <td>443.0</td>\n",
       "      <td>5802.0</td>\n",
       "    </tr>\n",
       "  </tbody>\n",
       "</table>\n",
       "</div>"
      ],
      "text/plain": [
       "         date   platform post_type   likes  shares  comments   views\n",
       "0  2023-05-24    Twitter     image   868.0   238.0     352.0  8836.0\n",
       "1  2023-02-23    Twitter     image   944.0   610.0     146.0  5554.0\n",
       "2  2023-03-18  Instagram     image  1067.0   858.0     365.0  4018.0\n",
       "3  2023-06-12    Twitter      text   780.0   427.0     100.0  6999.0\n",
       "4  2023-02-03  Instagram      text   836.0   893.0     443.0  5802.0"
      ]
     },
     "execution_count": 3,
     "metadata": {},
     "output_type": "execute_result"
    }
   ],
   "source": [
    "social_media_df.head()"
   ]
  },
  {
   "cell_type": "code",
   "execution_count": 4,
   "id": "3fddf6e4-3477-4400-9ed9-92f4cfed6cd5",
   "metadata": {},
   "outputs": [
    {
     "name": "stdout",
     "output_type": "stream",
     "text": [
      "<class 'pandas.core.frame.DataFrame'>\n",
      "RangeIndex: 2000 entries, 0 to 1999\n",
      "Data columns (total 7 columns):\n",
      " #   Column     Non-Null Count  Dtype  \n",
      "---  ------     --------------  -----  \n",
      " 0   date       2000 non-null   object \n",
      " 1   platform   2000 non-null   object \n",
      " 2   post_type  2000 non-null   object \n",
      " 3   likes      1992 non-null   float64\n",
      " 4   shares     1992 non-null   float64\n",
      " 5   comments   1992 non-null   float64\n",
      " 6   views      1990 non-null   float64\n",
      "dtypes: float64(4), object(3)\n",
      "memory usage: 109.5+ KB\n"
     ]
    }
   ],
   "source": [
    "social_media_df.info()"
   ]
  },
  {
   "cell_type": "code",
   "execution_count": 5,
   "id": "0b231773-c4df-4902-aabc-f5cd2cf40d3f",
   "metadata": {},
   "outputs": [
    {
     "data": {
      "text/plain": [
       "date          0\n",
       "platform      0\n",
       "post_type     0\n",
       "likes         8\n",
       "shares        8\n",
       "comments      8\n",
       "views        10\n",
       "dtype: int64"
      ]
     },
     "execution_count": 5,
     "metadata": {},
     "output_type": "execute_result"
    }
   ],
   "source": [
    "social_media_df.isnull().sum()"
   ]
  },
  {
   "cell_type": "code",
   "execution_count": 6,
   "id": "bb143e0f-d158-4519-86b6-e97dab40fc60",
   "metadata": {},
   "outputs": [
    {
     "data": {
      "text/plain": [
       "6966.834673366834"
      ]
     },
     "execution_count": 6,
     "metadata": {},
     "output_type": "execute_result"
    }
   ],
   "source": [
    "views_avg = social_media_df['views'].mean()\n",
    "views_avg"
   ]
  },
  {
   "cell_type": "code",
   "execution_count": 7,
   "id": "ecf156f0-586e-4bc7-b4c7-169ff8826a13",
   "metadata": {},
   "outputs": [],
   "source": [
    "social_media_df['views'] = social_media_df['views'].fillna(views_avg)"
   ]
  },
  {
   "cell_type": "code",
   "execution_count": 15,
   "id": "ca1ed9a9-e0ba-435f-89f3-561dd2687825",
   "metadata": {},
   "outputs": [
    {
     "data": {
      "text/plain": [
       "497.2866465863454"
      ]
     },
     "execution_count": 15,
     "metadata": {},
     "output_type": "execute_result"
    }
   ],
   "source": [
    "shares_avg = social_media_df['shares'].mean()\n",
    "shares_avg"
   ]
  },
  {
   "cell_type": "code",
   "execution_count": 17,
   "id": "affdef46-b3b8-4753-8dcc-fb2016b1c6de",
   "metadata": {},
   "outputs": [],
   "source": [
    "social_media_df['shares'] = social_media_df['shares'].fillna(shares_avg)"
   ]
  },
  {
   "cell_type": "code",
   "execution_count": 19,
   "id": "fa6f7d4d-4c87-44cc-ada2-2f03d5ae2552",
   "metadata": {},
   "outputs": [
    {
     "data": {
      "text/plain": [
       "1289.7951807228915"
      ]
     },
     "execution_count": 19,
     "metadata": {},
     "output_type": "execute_result"
    }
   ],
   "source": [
    "likes_avg = social_media_df['likes'].mean()\n",
    "likes_avg"
   ]
  },
  {
   "cell_type": "code",
   "execution_count": 21,
   "id": "2d433051-b3c6-4253-8922-69ae2d1a8f7a",
   "metadata": {},
   "outputs": [],
   "source": [
    "social_media_df['likes'] = social_media_df['likes'].fillna(likes_avg)"
   ]
  },
  {
   "cell_type": "code",
   "execution_count": 23,
   "id": "6c8d703d-25c5-44e7-9ee2-b167e78a2157",
   "metadata": {},
   "outputs": [
    {
     "data": {
      "text/plain": [
       "305.84789156626505"
      ]
     },
     "execution_count": 23,
     "metadata": {},
     "output_type": "execute_result"
    }
   ],
   "source": [
    "comm_avg = social_media_df['comments'].mean()\n",
    "comm_avg"
   ]
  },
  {
   "cell_type": "code",
   "execution_count": 25,
   "id": "f1f98a15-b8da-40f3-82d2-87c8a0717c12",
   "metadata": {},
   "outputs": [],
   "source": [
    "social_media_df['comments'] = social_media_df['comments'].fillna(comm_avg)"
   ]
  },
  {
   "cell_type": "code",
   "execution_count": 27,
   "id": "646d0b30-5ee0-46b0-89bb-d620950610ca",
   "metadata": {},
   "outputs": [
    {
     "data": {
      "text/plain": [
       "date         0\n",
       "platform     0\n",
       "post_type    0\n",
       "likes        0\n",
       "shares       0\n",
       "comments     0\n",
       "views        0\n",
       "dtype: int64"
      ]
     },
     "execution_count": 27,
     "metadata": {},
     "output_type": "execute_result"
    }
   ],
   "source": [
    "social_media_df.isnull().sum()"
   ]
  },
  {
   "cell_type": "code",
   "execution_count": 29,
   "id": "849ef3c0-af83-4ef4-9f45-7aefc8a31d66",
   "metadata": {},
   "outputs": [
    {
     "name": "stdout",
     "output_type": "stream",
     "text": [
      "<class 'pandas.core.frame.DataFrame'>\n",
      "RangeIndex: 2000 entries, 0 to 1999\n",
      "Data columns (total 7 columns):\n",
      " #   Column     Non-Null Count  Dtype  \n",
      "---  ------     --------------  -----  \n",
      " 0   date       2000 non-null   object \n",
      " 1   platform   2000 non-null   object \n",
      " 2   post_type  2000 non-null   object \n",
      " 3   likes      2000 non-null   float64\n",
      " 4   shares     2000 non-null   float64\n",
      " 5   comments   2000 non-null   float64\n",
      " 6   views      2000 non-null   float64\n",
      "dtypes: float64(4), object(3)\n",
      "memory usage: 109.5+ KB\n"
     ]
    }
   ],
   "source": [
    "social_media_df.info()"
   ]
  },
  {
   "cell_type": "code",
   "execution_count": 31,
   "id": "c99e02c5-7b96-4bc6-bf5e-0b0c9008d2e7",
   "metadata": {},
   "outputs": [
    {
     "data": {
      "text/plain": [
       "0"
      ]
     },
     "execution_count": 31,
     "metadata": {},
     "output_type": "execute_result"
    }
   ],
   "source": [
    "social_media_df.duplicated().sum()"
   ]
  },
  {
   "cell_type": "code",
   "execution_count": 33,
   "id": "0fe90322-812b-4e9b-9dd5-cd7a3eab1665",
   "metadata": {},
   "outputs": [],
   "source": [
    "social_media_df['date'] = pd.to_datetime(social_media_df['date'], format='%Y-%m-%d')"
   ]
  },
  {
   "cell_type": "code",
   "execution_count": 35,
   "id": "cea968ec-e060-4b20-8a84-864da3817592",
   "metadata": {},
   "outputs": [
    {
     "name": "stdout",
     "output_type": "stream",
     "text": [
      "<class 'pandas.core.frame.DataFrame'>\n",
      "RangeIndex: 2000 entries, 0 to 1999\n",
      "Data columns (total 7 columns):\n",
      " #   Column     Non-Null Count  Dtype         \n",
      "---  ------     --------------  -----         \n",
      " 0   date       2000 non-null   datetime64[ns]\n",
      " 1   platform   2000 non-null   object        \n",
      " 2   post_type  2000 non-null   object        \n",
      " 3   likes      2000 non-null   float64       \n",
      " 4   shares     2000 non-null   float64       \n",
      " 5   comments   2000 non-null   float64       \n",
      " 6   views      2000 non-null   float64       \n",
      "dtypes: datetime64[ns](1), float64(4), object(2)\n",
      "memory usage: 109.5+ KB\n"
     ]
    }
   ],
   "source": [
    "social_media_df.info()"
   ]
  },
  {
   "cell_type": "markdown",
   "id": "dc380426-117d-43c3-9358-fbc383b31677",
   "metadata": {},
   "source": [
    "# What was the total number of likes, shares, comments, and views (for videos) over the year?"
   ]
  },
  {
   "cell_type": "code",
   "execution_count": 38,
   "id": "8b119ef9-7485-4a95-aec9-e9cbe881534b",
   "metadata": {},
   "outputs": [],
   "source": [
    "total_acts = social_media_df.groupby('post_type')['likes'].sum().reset_index()\n",
    "\n",
    "total_shares = social_media_df.groupby('post_type')['shares'].sum().reset_index()\n",
    "total_acts['shares'] = total_shares['shares']\n",
    "\n",
    "total_comments = social_media_df.groupby('post_type')['comments'].sum().reset_index()\n",
    "total_acts['comments'] = total_comments['comments']\n",
    "\n",
    "total_views = social_media_df.groupby('post_type')['views'].sum().reset_index()\n",
    "total_acts['views'] = total_views['views']"
   ]
  },
  {
   "cell_type": "code",
   "execution_count": 40,
   "id": "2f96764e-8bc1-42ed-94d4-b9c2b81023d7",
   "metadata": {},
   "outputs": [
    {
     "data": {
      "text/html": [
       "<div>\n",
       "<style scoped>\n",
       "    .dataframe tbody tr th:only-of-type {\n",
       "        vertical-align: middle;\n",
       "    }\n",
       "\n",
       "    .dataframe tbody tr th {\n",
       "        vertical-align: top;\n",
       "    }\n",
       "\n",
       "    .dataframe thead th {\n",
       "        text-align: right;\n",
       "    }\n",
       "</style>\n",
       "<table border=\"1\" class=\"dataframe\">\n",
       "  <thead>\n",
       "    <tr style=\"text-align: right;\">\n",
       "      <th></th>\n",
       "      <th>post_type</th>\n",
       "      <th>likes</th>\n",
       "      <th>shares</th>\n",
       "      <th>comments</th>\n",
       "      <th>views</th>\n",
       "    </tr>\n",
       "  </thead>\n",
       "  <tbody>\n",
       "    <tr>\n",
       "      <th>0</th>\n",
       "      <td>image</td>\n",
       "      <td>931089.590361</td>\n",
       "      <td>363227.573293</td>\n",
       "      <td>226123.847892</td>\n",
       "      <td>5.051609e+06</td>\n",
       "    </tr>\n",
       "    <tr>\n",
       "      <th>1</th>\n",
       "      <td>text</td>\n",
       "      <td>829751.180723</td>\n",
       "      <td>318813.859940</td>\n",
       "      <td>190515.391566</td>\n",
       "      <td>4.382496e+06</td>\n",
       "    </tr>\n",
       "    <tr>\n",
       "      <th>2</th>\n",
       "      <td>video</td>\n",
       "      <td>818749.590361</td>\n",
       "      <td>312531.859940</td>\n",
       "      <td>195056.543675</td>\n",
       "      <td>4.499565e+06</td>\n",
       "    </tr>\n",
       "  </tbody>\n",
       "</table>\n",
       "</div>"
      ],
      "text/plain": [
       "  post_type          likes         shares       comments         views\n",
       "0     image  931089.590361  363227.573293  226123.847892  5.051609e+06\n",
       "1      text  829751.180723  318813.859940  190515.391566  4.382496e+06\n",
       "2     video  818749.590361  312531.859940  195056.543675  4.499565e+06"
      ]
     },
     "execution_count": 40,
     "metadata": {},
     "output_type": "execute_result"
    }
   ],
   "source": [
    "total_acts"
   ]
  },
  {
   "cell_type": "code",
   "execution_count": 42,
   "id": "63824e3a-20f7-461f-8236-20700e5594de",
   "metadata": {},
   "outputs": [],
   "source": [
    "pd.options.display.float_format = '{:.2f}'.format"
   ]
  },
  {
   "cell_type": "code",
   "execution_count": 44,
   "id": "635a706c-3e72-4590-a28b-e770aa604175",
   "metadata": {},
   "outputs": [
    {
     "data": {
      "text/html": [
       "<div>\n",
       "<style scoped>\n",
       "    .dataframe tbody tr th:only-of-type {\n",
       "        vertical-align: middle;\n",
       "    }\n",
       "\n",
       "    .dataframe tbody tr th {\n",
       "        vertical-align: top;\n",
       "    }\n",
       "\n",
       "    .dataframe thead th {\n",
       "        text-align: right;\n",
       "    }\n",
       "</style>\n",
       "<table border=\"1\" class=\"dataframe\">\n",
       "  <thead>\n",
       "    <tr style=\"text-align: right;\">\n",
       "      <th></th>\n",
       "      <th>post_type</th>\n",
       "      <th>likes</th>\n",
       "      <th>shares</th>\n",
       "      <th>comments</th>\n",
       "      <th>views</th>\n",
       "    </tr>\n",
       "  </thead>\n",
       "  <tbody>\n",
       "    <tr>\n",
       "      <th>0</th>\n",
       "      <td>image</td>\n",
       "      <td>931089.59</td>\n",
       "      <td>363227.57</td>\n",
       "      <td>226123.85</td>\n",
       "      <td>5051608.67</td>\n",
       "    </tr>\n",
       "    <tr>\n",
       "      <th>1</th>\n",
       "      <td>text</td>\n",
       "      <td>829751.18</td>\n",
       "      <td>318813.86</td>\n",
       "      <td>190515.39</td>\n",
       "      <td>4382495.50</td>\n",
       "    </tr>\n",
       "    <tr>\n",
       "      <th>2</th>\n",
       "      <td>video</td>\n",
       "      <td>818749.59</td>\n",
       "      <td>312531.86</td>\n",
       "      <td>195056.54</td>\n",
       "      <td>4499565.17</td>\n",
       "    </tr>\n",
       "  </tbody>\n",
       "</table>\n",
       "</div>"
      ],
      "text/plain": [
       "  post_type     likes    shares  comments      views\n",
       "0     image 931089.59 363227.57 226123.85 5051608.67\n",
       "1      text 829751.18 318813.86 190515.39 4382495.50\n",
       "2     video 818749.59 312531.86 195056.54 4499565.17"
      ]
     },
     "execution_count": 44,
     "metadata": {},
     "output_type": "execute_result"
    }
   ],
   "source": [
    "total_acts"
   ]
  },
  {
   "cell_type": "markdown",
   "id": "7f52e481-530a-4557-83b4-d194a1f07c05",
   "metadata": {},
   "source": [
    "# Which platform had the highest engagement? (engagement = likes + shares + comments)"
   ]
  },
  {
   "cell_type": "code",
   "execution_count": 47,
   "id": "f7f5126f-7914-488a-a6a7-182025c9de89",
   "metadata": {},
   "outputs": [
    {
     "data": {
      "text/html": [
       "<div>\n",
       "<style scoped>\n",
       "    .dataframe tbody tr th:only-of-type {\n",
       "        vertical-align: middle;\n",
       "    }\n",
       "\n",
       "    .dataframe tbody tr th {\n",
       "        vertical-align: top;\n",
       "    }\n",
       "\n",
       "    .dataframe thead th {\n",
       "        text-align: right;\n",
       "    }\n",
       "</style>\n",
       "<table border=\"1\" class=\"dataframe\">\n",
       "  <thead>\n",
       "    <tr style=\"text-align: right;\">\n",
       "      <th></th>\n",
       "      <th>post_type</th>\n",
       "      <th>likes</th>\n",
       "      <th>shares</th>\n",
       "      <th>comments</th>\n",
       "      <th>views</th>\n",
       "      <th>engagment</th>\n",
       "    </tr>\n",
       "  </thead>\n",
       "  <tbody>\n",
       "    <tr>\n",
       "      <th>0</th>\n",
       "      <td>image</td>\n",
       "      <td>931089.59</td>\n",
       "      <td>363227.57</td>\n",
       "      <td>226123.85</td>\n",
       "      <td>5051608.67</td>\n",
       "      <td>1520441.01</td>\n",
       "    </tr>\n",
       "    <tr>\n",
       "      <th>1</th>\n",
       "      <td>text</td>\n",
       "      <td>829751.18</td>\n",
       "      <td>318813.86</td>\n",
       "      <td>190515.39</td>\n",
       "      <td>4382495.50</td>\n",
       "      <td>1339080.43</td>\n",
       "    </tr>\n",
       "    <tr>\n",
       "      <th>2</th>\n",
       "      <td>video</td>\n",
       "      <td>818749.59</td>\n",
       "      <td>312531.86</td>\n",
       "      <td>195056.54</td>\n",
       "      <td>4499565.17</td>\n",
       "      <td>1326337.99</td>\n",
       "    </tr>\n",
       "  </tbody>\n",
       "</table>\n",
       "</div>"
      ],
      "text/plain": [
       "  post_type     likes    shares  comments      views  engagment\n",
       "0     image 931089.59 363227.57 226123.85 5051608.67 1520441.01\n",
       "1      text 829751.18 318813.86 190515.39 4382495.50 1339080.43\n",
       "2     video 818749.59 312531.86 195056.54 4499565.17 1326337.99"
      ]
     },
     "execution_count": 47,
     "metadata": {},
     "output_type": "execute_result"
    }
   ],
   "source": [
    "total_acts['engagment'] = total_acts['likes'] + total_acts['shares'] + total_acts['comments']\n",
    "total_acts"
   ]
  },
  {
   "cell_type": "code",
   "execution_count": 49,
   "id": "06c180ec-f59a-41c1-8d86-cb09837a90bd",
   "metadata": {},
   "outputs": [
    {
     "data": {
      "text/plain": [
       "'image'"
      ]
     },
     "execution_count": 49,
     "metadata": {},
     "output_type": "execute_result"
    }
   ],
   "source": [
    "total_acts.loc[total_acts['engagment'].idxmax()]['post_type']"
   ]
  },
  {
   "cell_type": "markdown",
   "id": "6bb2f98d-8e82-4123-9228-81deef45fd26",
   "metadata": {},
   "source": [
    "# What was the average number of likes, shares, comments, and views per post on each platform?"
   ]
  },
  {
   "cell_type": "code",
   "execution_count": 52,
   "id": "bdf2084d-4930-40e3-8a7f-f484f61d529d",
   "metadata": {},
   "outputs": [
    {
     "data": {
      "text/html": [
       "<div>\n",
       "<style scoped>\n",
       "    .dataframe tbody tr th:only-of-type {\n",
       "        vertical-align: middle;\n",
       "    }\n",
       "\n",
       "    .dataframe tbody tr th {\n",
       "        vertical-align: top;\n",
       "    }\n",
       "\n",
       "    .dataframe thead th {\n",
       "        text-align: right;\n",
       "    }\n",
       "</style>\n",
       "<table border=\"1\" class=\"dataframe\">\n",
       "  <thead>\n",
       "    <tr style=\"text-align: right;\">\n",
       "      <th></th>\n",
       "      <th>platform</th>\n",
       "      <th>likes</th>\n",
       "      <th>shares</th>\n",
       "      <th>comments</th>\n",
       "      <th>views</th>\n",
       "    </tr>\n",
       "  </thead>\n",
       "  <tbody>\n",
       "    <tr>\n",
       "      <th>0</th>\n",
       "      <td>Facebook</td>\n",
       "      <td>1289.98</td>\n",
       "      <td>513.09</td>\n",
       "      <td>311.15</td>\n",
       "      <td>6984.13</td>\n",
       "    </tr>\n",
       "    <tr>\n",
       "      <th>1</th>\n",
       "      <td>Instagram</td>\n",
       "      <td>1305.79</td>\n",
       "      <td>497.37</td>\n",
       "      <td>301.08</td>\n",
       "      <td>6906.15</td>\n",
       "    </tr>\n",
       "    <tr>\n",
       "      <th>2</th>\n",
       "      <td>NonExistingPlatform</td>\n",
       "      <td>1150.17</td>\n",
       "      <td>515.83</td>\n",
       "      <td>285.50</td>\n",
       "      <td>6729.17</td>\n",
       "    </tr>\n",
       "    <tr>\n",
       "      <th>3</th>\n",
       "      <td>Twitter</td>\n",
       "      <td>1275.02</td>\n",
       "      <td>482.48</td>\n",
       "      <td>305.86</td>\n",
       "      <td>7013.05</td>\n",
       "    </tr>\n",
       "  </tbody>\n",
       "</table>\n",
       "</div>"
      ],
      "text/plain": [
       "              platform   likes  shares  comments   views\n",
       "0             Facebook 1289.98  513.09    311.15 6984.13\n",
       "1            Instagram 1305.79  497.37    301.08 6906.15\n",
       "2  NonExistingPlatform 1150.17  515.83    285.50 6729.17\n",
       "3              Twitter 1275.02  482.48    305.86 7013.05"
      ]
     },
     "execution_count": 52,
     "metadata": {},
     "output_type": "execute_result"
    }
   ],
   "source": [
    "avg_acts = social_media_df.groupby('platform')['likes'].mean().reset_index()\n",
    "\n",
    "avg_shares = social_media_df.groupby('platform')['shares'].mean().reset_index()\n",
    "avg_acts['shares'] = avg_shares['shares']\n",
    "\n",
    "avg_comments = social_media_df.groupby('platform')['comments'].mean().reset_index()\n",
    "avg_acts['comments'] = avg_comments['comments']\n",
    "\n",
    "avg_views = social_media_df.groupby('platform')['views'].mean().reset_index()\n",
    "avg_acts['views'] = avg_views['views']\n",
    "\n",
    "avg_acts"
   ]
  },
  {
   "cell_type": "markdown",
   "id": "82fe794e-2899-41c5-bcda-8517f02a5bfd",
   "metadata": {},
   "source": [
    "# What was the total number of each type of post (video, image, text) on each platform?"
   ]
  },
  {
   "cell_type": "code",
   "execution_count": 55,
   "id": "816418a5-a7cc-4215-9f64-3a15c9a7f62f",
   "metadata": {},
   "outputs": [
    {
     "data": {
      "text/html": [
       "<div>\n",
       "<style scoped>\n",
       "    .dataframe tbody tr th:only-of-type {\n",
       "        vertical-align: middle;\n",
       "    }\n",
       "\n",
       "    .dataframe tbody tr th {\n",
       "        vertical-align: top;\n",
       "    }\n",
       "\n",
       "    .dataframe thead th {\n",
       "        text-align: right;\n",
       "    }\n",
       "</style>\n",
       "<table border=\"1\" class=\"dataframe\">\n",
       "  <thead>\n",
       "    <tr style=\"text-align: right;\">\n",
       "      <th></th>\n",
       "      <th>platform</th>\n",
       "      <th>post_type</th>\n",
       "      <th>count</th>\n",
       "    </tr>\n",
       "  </thead>\n",
       "  <tbody>\n",
       "    <tr>\n",
       "      <th>0</th>\n",
       "      <td>Facebook</td>\n",
       "      <td>image</td>\n",
       "      <td>218</td>\n",
       "    </tr>\n",
       "    <tr>\n",
       "      <th>1</th>\n",
       "      <td>Facebook</td>\n",
       "      <td>video</td>\n",
       "      <td>209</td>\n",
       "    </tr>\n",
       "    <tr>\n",
       "      <th>2</th>\n",
       "      <td>Facebook</td>\n",
       "      <td>text</td>\n",
       "      <td>204</td>\n",
       "    </tr>\n",
       "    <tr>\n",
       "      <th>3</th>\n",
       "      <td>Instagram</td>\n",
       "      <td>image</td>\n",
       "      <td>267</td>\n",
       "    </tr>\n",
       "    <tr>\n",
       "      <th>4</th>\n",
       "      <td>Instagram</td>\n",
       "      <td>video</td>\n",
       "      <td>208</td>\n",
       "    </tr>\n",
       "    <tr>\n",
       "      <th>5</th>\n",
       "      <td>Instagram</td>\n",
       "      <td>text</td>\n",
       "      <td>203</td>\n",
       "    </tr>\n",
       "    <tr>\n",
       "      <th>6</th>\n",
       "      <td>NonExistingPlatform</td>\n",
       "      <td>text</td>\n",
       "      <td>3</td>\n",
       "    </tr>\n",
       "    <tr>\n",
       "      <th>7</th>\n",
       "      <td>NonExistingPlatform</td>\n",
       "      <td>video</td>\n",
       "      <td>2</td>\n",
       "    </tr>\n",
       "    <tr>\n",
       "      <th>8</th>\n",
       "      <td>NonExistingPlatform</td>\n",
       "      <td>image</td>\n",
       "      <td>1</td>\n",
       "    </tr>\n",
       "    <tr>\n",
       "      <th>9</th>\n",
       "      <td>Twitter</td>\n",
       "      <td>image</td>\n",
       "      <td>249</td>\n",
       "    </tr>\n",
       "    <tr>\n",
       "      <th>10</th>\n",
       "      <td>Twitter</td>\n",
       "      <td>text</td>\n",
       "      <td>219</td>\n",
       "    </tr>\n",
       "    <tr>\n",
       "      <th>11</th>\n",
       "      <td>Twitter</td>\n",
       "      <td>video</td>\n",
       "      <td>217</td>\n",
       "    </tr>\n",
       "  </tbody>\n",
       "</table>\n",
       "</div>"
      ],
      "text/plain": [
       "               platform post_type  count\n",
       "0              Facebook     image    218\n",
       "1              Facebook     video    209\n",
       "2              Facebook      text    204\n",
       "3             Instagram     image    267\n",
       "4             Instagram     video    208\n",
       "5             Instagram      text    203\n",
       "6   NonExistingPlatform      text      3\n",
       "7   NonExistingPlatform     video      2\n",
       "8   NonExistingPlatform     image      1\n",
       "9               Twitter     image    249\n",
       "10              Twitter      text    219\n",
       "11              Twitter     video    217"
      ]
     },
     "execution_count": 55,
     "metadata": {},
     "output_type": "execute_result"
    }
   ],
   "source": [
    "types_count = social_media_df.groupby('platform')['post_type'].value_counts().reset_index()\n",
    "types_count"
   ]
  },
  {
   "cell_type": "markdown",
   "id": "58787918-ebfd-4c7f-b00b-a0762c686a20",
   "metadata": {},
   "source": [
    "# Which type of post had the highest average engagement?"
   ]
  },
  {
   "cell_type": "code",
   "execution_count": 59,
   "id": "f2fdeb5c-f69c-439b-a087-e4c4c63960fe",
   "metadata": {},
   "outputs": [
    {
     "data": {
      "text/html": [
       "<div>\n",
       "<style scoped>\n",
       "    .dataframe tbody tr th:only-of-type {\n",
       "        vertical-align: middle;\n",
       "    }\n",
       "\n",
       "    .dataframe tbody tr th {\n",
       "        vertical-align: top;\n",
       "    }\n",
       "\n",
       "    .dataframe thead th {\n",
       "        text-align: right;\n",
       "    }\n",
       "</style>\n",
       "<table border=\"1\" class=\"dataframe\">\n",
       "  <thead>\n",
       "    <tr style=\"text-align: right;\">\n",
       "      <th></th>\n",
       "      <th>post_type</th>\n",
       "      <th>likes</th>\n",
       "      <th>shares</th>\n",
       "      <th>comments</th>\n",
       "      <th>views</th>\n",
       "    </tr>\n",
       "  </thead>\n",
       "  <tbody>\n",
       "    <tr>\n",
       "      <th>0</th>\n",
       "      <td>image</td>\n",
       "      <td>1266.79</td>\n",
       "      <td>494.19</td>\n",
       "      <td>307.65</td>\n",
       "      <td>6872.94</td>\n",
       "    </tr>\n",
       "    <tr>\n",
       "      <th>1</th>\n",
       "      <td>text</td>\n",
       "      <td>1319.16</td>\n",
       "      <td>506.86</td>\n",
       "      <td>302.89</td>\n",
       "      <td>6967.40</td>\n",
       "    </tr>\n",
       "    <tr>\n",
       "      <th>2</th>\n",
       "      <td>video</td>\n",
       "      <td>1287.34</td>\n",
       "      <td>491.40</td>\n",
       "      <td>306.69</td>\n",
       "      <td>7074.79</td>\n",
       "    </tr>\n",
       "  </tbody>\n",
       "</table>\n",
       "</div>"
      ],
      "text/plain": [
       "  post_type   likes  shares  comments   views\n",
       "0     image 1266.79  494.19    307.65 6872.94\n",
       "1      text 1319.16  506.86    302.89 6967.40\n",
       "2     video 1287.34  491.40    306.69 7074.79"
      ]
     },
     "execution_count": 59,
     "metadata": {},
     "output_type": "execute_result"
    }
   ],
   "source": [
    "type_avg = social_media_df.groupby('post_type')['likes'].mean().reset_index()\n",
    "\n",
    "avg_shares = social_media_df.groupby('post_type')['shares'].mean().reset_index()\n",
    "type_avg['shares'] = avg_shares['shares']\n",
    "\n",
    "avg_comments = social_media_df.groupby('post_type')['comments'].mean().reset_index()\n",
    "type_avg['comments'] = avg_comments['comments']\n",
    "\n",
    "avg_views = social_media_df.groupby('post_type')['views'].mean().reset_index()\n",
    "type_avg['views'] = avg_views['views']\n",
    "\n",
    "type_avg"
   ]
  },
  {
   "cell_type": "code",
   "execution_count": 61,
   "id": "095fdd91-1aa4-4699-8d09-cff82b554d19",
   "metadata": {},
   "outputs": [
    {
     "data": {
      "text/html": [
       "<div>\n",
       "<style scoped>\n",
       "    .dataframe tbody tr th:only-of-type {\n",
       "        vertical-align: middle;\n",
       "    }\n",
       "\n",
       "    .dataframe tbody tr th {\n",
       "        vertical-align: top;\n",
       "    }\n",
       "\n",
       "    .dataframe thead th {\n",
       "        text-align: right;\n",
       "    }\n",
       "</style>\n",
       "<table border=\"1\" class=\"dataframe\">\n",
       "  <thead>\n",
       "    <tr style=\"text-align: right;\">\n",
       "      <th></th>\n",
       "      <th>post_type</th>\n",
       "      <th>likes</th>\n",
       "      <th>shares</th>\n",
       "      <th>comments</th>\n",
       "      <th>views</th>\n",
       "      <th>engagment</th>\n",
       "    </tr>\n",
       "  </thead>\n",
       "  <tbody>\n",
       "    <tr>\n",
       "      <th>0</th>\n",
       "      <td>image</td>\n",
       "      <td>1266.79</td>\n",
       "      <td>494.19</td>\n",
       "      <td>307.65</td>\n",
       "      <td>6872.94</td>\n",
       "      <td>2068.63</td>\n",
       "    </tr>\n",
       "    <tr>\n",
       "      <th>1</th>\n",
       "      <td>text</td>\n",
       "      <td>1319.16</td>\n",
       "      <td>506.86</td>\n",
       "      <td>302.89</td>\n",
       "      <td>6967.40</td>\n",
       "      <td>2128.90</td>\n",
       "    </tr>\n",
       "    <tr>\n",
       "      <th>2</th>\n",
       "      <td>video</td>\n",
       "      <td>1287.34</td>\n",
       "      <td>491.40</td>\n",
       "      <td>306.69</td>\n",
       "      <td>7074.79</td>\n",
       "      <td>2085.44</td>\n",
       "    </tr>\n",
       "  </tbody>\n",
       "</table>\n",
       "</div>"
      ],
      "text/plain": [
       "  post_type   likes  shares  comments   views  engagment\n",
       "0     image 1266.79  494.19    307.65 6872.94    2068.63\n",
       "1      text 1319.16  506.86    302.89 6967.40    2128.90\n",
       "2     video 1287.34  491.40    306.69 7074.79    2085.44"
      ]
     },
     "execution_count": 61,
     "metadata": {},
     "output_type": "execute_result"
    }
   ],
   "source": [
    "type_avg['engagment'] = type_avg['likes'] + type_avg['shares'] + type_avg['comments']\n",
    "type_avg"
   ]
  },
  {
   "cell_type": "code",
   "execution_count": 63,
   "id": "f6ded4c9-92af-469c-8d5e-5977dafca9c4",
   "metadata": {},
   "outputs": [
    {
     "data": {
      "text/plain": [
       "'text'"
      ]
     },
     "execution_count": 63,
     "metadata": {},
     "output_type": "execute_result"
    }
   ],
   "source": [
    "type_avg.loc[type_avg['engagment'].idxmax()]['post_type']"
   ]
  },
  {
   "cell_type": "markdown",
   "id": "0999adb3-7227-4d12-8b7f-6afce6efac0b",
   "metadata": {},
   "source": [
    "#  What was the total engagement in each quarter of the year?"
   ]
  },
  {
   "cell_type": "code",
   "execution_count": 68,
   "id": "94f8e29b-846d-4ba9-93b9-14df494b7f64",
   "metadata": {},
   "outputs": [
    {
     "data": {
      "text/html": [
       "<div>\n",
       "<style scoped>\n",
       "    .dataframe tbody tr th:only-of-type {\n",
       "        vertical-align: middle;\n",
       "    }\n",
       "\n",
       "    .dataframe tbody tr th {\n",
       "        vertical-align: top;\n",
       "    }\n",
       "\n",
       "    .dataframe thead th {\n",
       "        text-align: right;\n",
       "    }\n",
       "</style>\n",
       "<table border=\"1\" class=\"dataframe\">\n",
       "  <thead>\n",
       "    <tr style=\"text-align: right;\">\n",
       "      <th></th>\n",
       "      <th>date</th>\n",
       "      <th>platform</th>\n",
       "      <th>post_type</th>\n",
       "      <th>likes</th>\n",
       "      <th>shares</th>\n",
       "      <th>comments</th>\n",
       "      <th>views</th>\n",
       "      <th>quarter</th>\n",
       "      <th>engagment</th>\n",
       "    </tr>\n",
       "  </thead>\n",
       "  <tbody>\n",
       "    <tr>\n",
       "      <th>0</th>\n",
       "      <td>2023-05-24</td>\n",
       "      <td>Twitter</td>\n",
       "      <td>image</td>\n",
       "      <td>868.00</td>\n",
       "      <td>238.00</td>\n",
       "      <td>352.00</td>\n",
       "      <td>8836.00</td>\n",
       "      <td>2</td>\n",
       "      <td>1458.00</td>\n",
       "    </tr>\n",
       "    <tr>\n",
       "      <th>1</th>\n",
       "      <td>2023-02-23</td>\n",
       "      <td>Twitter</td>\n",
       "      <td>image</td>\n",
       "      <td>944.00</td>\n",
       "      <td>610.00</td>\n",
       "      <td>146.00</td>\n",
       "      <td>5554.00</td>\n",
       "      <td>1</td>\n",
       "      <td>1700.00</td>\n",
       "    </tr>\n",
       "    <tr>\n",
       "      <th>2</th>\n",
       "      <td>2023-03-18</td>\n",
       "      <td>Instagram</td>\n",
       "      <td>image</td>\n",
       "      <td>1067.00</td>\n",
       "      <td>858.00</td>\n",
       "      <td>365.00</td>\n",
       "      <td>4018.00</td>\n",
       "      <td>1</td>\n",
       "      <td>2290.00</td>\n",
       "    </tr>\n",
       "    <tr>\n",
       "      <th>3</th>\n",
       "      <td>2023-06-12</td>\n",
       "      <td>Twitter</td>\n",
       "      <td>text</td>\n",
       "      <td>780.00</td>\n",
       "      <td>427.00</td>\n",
       "      <td>100.00</td>\n",
       "      <td>6999.00</td>\n",
       "      <td>2</td>\n",
       "      <td>1307.00</td>\n",
       "    </tr>\n",
       "    <tr>\n",
       "      <th>4</th>\n",
       "      <td>2023-02-03</td>\n",
       "      <td>Instagram</td>\n",
       "      <td>text</td>\n",
       "      <td>836.00</td>\n",
       "      <td>893.00</td>\n",
       "      <td>443.00</td>\n",
       "      <td>5802.00</td>\n",
       "      <td>1</td>\n",
       "      <td>2172.00</td>\n",
       "    </tr>\n",
       "  </tbody>\n",
       "</table>\n",
       "</div>"
      ],
      "text/plain": [
       "        date   platform post_type   likes  shares  comments   views  quarter  \\\n",
       "0 2023-05-24    Twitter     image  868.00  238.00    352.00 8836.00        2   \n",
       "1 2023-02-23    Twitter     image  944.00  610.00    146.00 5554.00        1   \n",
       "2 2023-03-18  Instagram     image 1067.00  858.00    365.00 4018.00        1   \n",
       "3 2023-06-12    Twitter      text  780.00  427.00    100.00 6999.00        2   \n",
       "4 2023-02-03  Instagram      text  836.00  893.00    443.00 5802.00        1   \n",
       "\n",
       "   engagment  \n",
       "0    1458.00  \n",
       "1    1700.00  \n",
       "2    2290.00  \n",
       "3    1307.00  \n",
       "4    2172.00  "
      ]
     },
     "execution_count": 68,
     "metadata": {},
     "output_type": "execute_result"
    }
   ],
   "source": [
    "quarter = []\n",
    "for date in social_media_df['date']:\n",
    "    quarter.append(date.quarter)\n",
    "\n",
    "social_media_df['engagment'] = social_media_df['likes'] + social_media_df['shares'] + social_media_df['comments']\n",
    "social_media_df['quarter'] = quarter\n",
    "\n",
    "social_media_df.head()"
   ]
  },
  {
   "cell_type": "code",
   "execution_count": 70,
   "id": "faf393a7-4d4b-4c4c-88f2-2332dc4c4797",
   "metadata": {},
   "outputs": [
    {
     "data": {
      "text/html": [
       "<div>\n",
       "<style scoped>\n",
       "    .dataframe tbody tr th:only-of-type {\n",
       "        vertical-align: middle;\n",
       "    }\n",
       "\n",
       "    .dataframe tbody tr th {\n",
       "        vertical-align: top;\n",
       "    }\n",
       "\n",
       "    .dataframe thead th {\n",
       "        text-align: right;\n",
       "    }\n",
       "</style>\n",
       "<table border=\"1\" class=\"dataframe\">\n",
       "  <thead>\n",
       "    <tr style=\"text-align: right;\">\n",
       "      <th></th>\n",
       "      <th>quarter</th>\n",
       "      <th>quarter_revenue</th>\n",
       "    </tr>\n",
       "  </thead>\n",
       "  <tbody>\n",
       "    <tr>\n",
       "      <th>0</th>\n",
       "      <td>1</td>\n",
       "      <td>1039898.06</td>\n",
       "    </tr>\n",
       "    <tr>\n",
       "      <th>1</th>\n",
       "      <td>2</td>\n",
       "      <td>1004265.57</td>\n",
       "    </tr>\n",
       "    <tr>\n",
       "      <th>2</th>\n",
       "      <td>3</td>\n",
       "      <td>999403.23</td>\n",
       "    </tr>\n",
       "    <tr>\n",
       "      <th>3</th>\n",
       "      <td>4</td>\n",
       "      <td>1142292.57</td>\n",
       "    </tr>\n",
       "  </tbody>\n",
       "</table>\n",
       "</div>"
      ],
      "text/plain": [
       "   quarter  quarter_revenue\n",
       "0        1       1039898.06\n",
       "1        2       1004265.57\n",
       "2        3        999403.23\n",
       "3        4       1142292.57"
      ]
     },
     "execution_count": 70,
     "metadata": {},
     "output_type": "execute_result"
    }
   ],
   "source": [
    "quarter_engagement = social_media_df.groupby('quarter')['engagment'].sum().reset_index(name = 'quarter_revenue')\n",
    "quarter_engagement"
   ]
  },
  {
   "cell_type": "code",
   "execution_count": null,
   "id": "50323126-383b-4b30-b32b-631de243c891",
   "metadata": {},
   "outputs": [],
   "source": []
  }
 ],
 "metadata": {
  "kernelspec": {
   "display_name": "Python 3 (ipykernel)",
   "language": "python",
   "name": "python3"
  },
  "language_info": {
   "codemirror_mode": {
    "name": "ipython",
    "version": 3
   },
   "file_extension": ".py",
   "mimetype": "text/x-python",
   "name": "python",
   "nbconvert_exporter": "python",
   "pygments_lexer": "ipython3",
   "version": "3.11.7"
  },
  "widgets": {
   "application/vnd.jupyter.widget-state+json": {
    "state": {},
    "version_major": 2,
    "version_minor": 0
   }
  }
 },
 "nbformat": 4,
 "nbformat_minor": 5
}
